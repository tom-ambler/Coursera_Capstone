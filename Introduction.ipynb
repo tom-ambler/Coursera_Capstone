{
    "cells": [
        {
            "cell_type": "markdown",
            "metadata": {
                "collapsed": true
            },
            "source": "# Seattle Paramedic Deployment Optimization"
        },
        {
            "cell_type": "markdown",
            "metadata": {},
            "source": "## Introduction/Business Problem Section"
        },
        {
            "cell_type": "markdown",
            "metadata": {},
            "source": "### At a public town hall, several citizens of Seattle raised concerns over response times for Emergency Medical Services (EMS) without sharing key data to support their claims. Having heard their specific accounts of severe accidents and their overarching concerns, the Mayor and head of EMS would like to understand the circumstances and patterns surrounding prior severe accidents and identify quick-win changes to training guides to better prepare their 911 operators for timely and appropriate EMS responses."
        },
        {
            "cell_type": "markdown",
            "metadata": {},
            "source": "### As confident as the EMS team was in their current procedures, they were open to the review, because real life cases have proven to deviate from even the best training guides. In their experiences, long conversions with someone who is hysterical or not capable of doing an on-scene assessment delays the appropriate course of action or leads to misguided decisions. Sending services for every accident is cost prohibitive. And, there\u2019s not enough time to wait for the police to arrive, assess and then phone in a request. "
        },
        {
            "cell_type": "markdown",
            "metadata": {},
            "source": "### Thus, identifying the key differentiators, in the context of the description of the accident, can aide in guiding the 911 operators\u2019 decisions leading to faster deployment, and saving of many lives, without an undue burden of cost. The findings and changes to procedures can then be communicated back to the public in order to restore their full confidence in the EMS department."
        },
        {
            "cell_type": "code",
            "execution_count": null,
            "metadata": {},
            "outputs": [],
            "source": ""
        }
    ],
    "metadata": {
        "kernelspec": {
            "display_name": "Python 3.6",
            "language": "python",
            "name": "python3"
        },
        "language_info": {
            "codemirror_mode": {
                "name": "ipython",
                "version": 3
            },
            "file_extension": ".py",
            "mimetype": "text/x-python",
            "name": "python",
            "nbconvert_exporter": "python",
            "pygments_lexer": "ipython3",
            "version": "3.6.9"
        }
    },
    "nbformat": 4,
    "nbformat_minor": 1
}