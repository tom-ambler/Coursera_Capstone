{
 "cells": [
  {
   "cell_type": "markdown",
   "metadata": {},
   "source": [
    "# Learning Pandas with Cali COVID-19 Data"
   ]
  },
  {
   "cell_type": "code",
   "execution_count": 8,
   "metadata": {},
   "outputs": [],
   "source": [
    "import pandas as pd"
   ]
  },
  {
   "cell_type": "markdown",
   "metadata": {},
   "source": [
    "### This is the CSV file of Cases."
   ]
  },
  {
   "cell_type": "markdown",
   "metadata": {},
   "source": [
    "##### Had to download the file (405K) manually.  The wget command was not found"
   ]
  },
  {
   "cell_type": "code",
   "execution_count": 9,
   "metadata": {},
   "outputs": [],
   "source": [
    "# statewide_cases = \"/Users/tomambler/Jupyter Notebooks/Junk Notebooks/statewide_cases.csv\"\n",
    "statewide_cases = \"https://data.ca.gov/dataset/590188d5-8545-4c93-a9a0-e230f0db7290/resource/926fd08f-cc91-4828-af38-bd45de97f8c3/download/statewide_cases.csv\""
   ]
  },
  {
   "cell_type": "code",
   "execution_count": 10,
   "metadata": {},
   "outputs": [],
   "source": [
    "# create the dataframe\n",
    "df = pd.read_csv(statewide_cases)"
   ]
  },
  {
   "cell_type": "code",
   "execution_count": 11,
   "metadata": {},
   "outputs": [
    {
     "data": {
      "text/plain": [
       "(11465, 6)"
      ]
     },
     "execution_count": 11,
     "metadata": {},
     "output_type": "execute_result"
    }
   ],
   "source": [
    "# show the total number of Rows and Columns\n",
    "df.shape"
   ]
  },
  {
   "cell_type": "code",
   "execution_count": 12,
   "metadata": {},
   "outputs": [
    {
     "data": {
      "text/plain": [
       "county                  object\n",
       "totalcountconfirmed    float64\n",
       "totalcountdeaths       float64\n",
       "newcountconfirmed        int64\n",
       "newcountdeaths           int64\n",
       "date                    object\n",
       "dtype: object"
      ]
     },
     "execution_count": 12,
     "metadata": {},
     "output_type": "execute_result"
    }
   ],
   "source": [
    "df.dtypes"
   ]
  },
  {
   "cell_type": "code",
   "execution_count": 13,
   "metadata": {},
   "outputs": [
    {
     "data": {
      "text/html": [
       "<div>\n",
       "<style scoped>\n",
       "    .dataframe tbody tr th:only-of-type {\n",
       "        vertical-align: middle;\n",
       "    }\n",
       "\n",
       "    .dataframe tbody tr th {\n",
       "        vertical-align: top;\n",
       "    }\n",
       "\n",
       "    .dataframe thead th {\n",
       "        text-align: right;\n",
       "    }\n",
       "</style>\n",
       "<table border=\"1\" class=\"dataframe\">\n",
       "  <thead>\n",
       "    <tr style=\"text-align: right;\">\n",
       "      <th></th>\n",
       "      <th>totalcountconfirmed</th>\n",
       "      <th>totalcountdeaths</th>\n",
       "      <th>newcountconfirmed</th>\n",
       "      <th>newcountdeaths</th>\n",
       "    </tr>\n",
       "  </thead>\n",
       "  <tbody>\n",
       "    <tr>\n",
       "      <th>totalcountconfirmed</th>\n",
       "      <td>1.000000</td>\n",
       "      <td>0.978348</td>\n",
       "      <td>0.734656</td>\n",
       "      <td>0.643250</td>\n",
       "    </tr>\n",
       "    <tr>\n",
       "      <th>totalcountdeaths</th>\n",
       "      <td>0.978348</td>\n",
       "      <td>1.000000</td>\n",
       "      <td>0.768429</td>\n",
       "      <td>0.693855</td>\n",
       "    </tr>\n",
       "    <tr>\n",
       "      <th>newcountconfirmed</th>\n",
       "      <td>0.734656</td>\n",
       "      <td>0.768429</td>\n",
       "      <td>1.000000</td>\n",
       "      <td>0.718874</td>\n",
       "    </tr>\n",
       "    <tr>\n",
       "      <th>newcountdeaths</th>\n",
       "      <td>0.643250</td>\n",
       "      <td>0.693855</td>\n",
       "      <td>0.718874</td>\n",
       "      <td>1.000000</td>\n",
       "    </tr>\n",
       "  </tbody>\n",
       "</table>\n",
       "</div>"
      ],
      "text/plain": [
       "                     totalcountconfirmed  totalcountdeaths  newcountconfirmed  \\\n",
       "totalcountconfirmed             1.000000          0.978348           0.734656   \n",
       "totalcountdeaths                0.978348          1.000000           0.768429   \n",
       "newcountconfirmed               0.734656          0.768429           1.000000   \n",
       "newcountdeaths                  0.643250          0.693855           0.718874   \n",
       "\n",
       "                     newcountdeaths  \n",
       "totalcountconfirmed        0.643250  \n",
       "totalcountdeaths           0.693855  \n",
       "newcountconfirmed          0.718874  \n",
       "newcountdeaths             1.000000  "
      ]
     },
     "execution_count": 13,
     "metadata": {},
     "output_type": "execute_result"
    }
   ],
   "source": [
    "df.corr()"
   ]
  },
  {
   "cell_type": "code",
   "execution_count": 14,
   "metadata": {},
   "outputs": [
    {
     "data": {
      "text/plain": [
       "<bound method DataFrame.info of             county  totalcountconfirmed  totalcountdeaths  newcountconfirmed  \\\n",
       "0      Santa Clara                151.0               6.0                151   \n",
       "1      Santa Clara                183.0               8.0                 32   \n",
       "2      Santa Clara                246.0               8.0                 63   \n",
       "3      Santa Clara                269.0              10.0                 23   \n",
       "4      Santa Clara                284.0              13.0                 15   \n",
       "...            ...                  ...               ...                ...   \n",
       "11460         Yolo               2752.0              54.0                  7   \n",
       "11461         Yolo               2763.0              54.0                 11   \n",
       "11462         Yolo               2766.0              55.0                  3   \n",
       "11463         Yolo               2776.0              55.0                 10   \n",
       "11464         Yolo               2784.0              55.0                  8   \n",
       "\n",
       "       newcountdeaths        date  \n",
       "0                   6  2020-03-18  \n",
       "1                   2  2020-03-19  \n",
       "2                   0  2020-03-20  \n",
       "3                   2  2020-03-21  \n",
       "4                   3  2020-03-22  \n",
       "...               ...         ...  \n",
       "11460               0  2020-09-21  \n",
       "11461               0  2020-09-22  \n",
       "11462               1  2020-09-23  \n",
       "11463               0  2020-09-24  \n",
       "11464               0  2020-09-25  \n",
       "\n",
       "[11465 rows x 6 columns]>"
      ]
     },
     "execution_count": 14,
     "metadata": {},
     "output_type": "execute_result"
    }
   ],
   "source": [
    "# provides a concise summary\n",
    "df.info"
   ]
  },
  {
   "cell_type": "code",
   "execution_count": 15,
   "metadata": {},
   "outputs": [
    {
     "data": {
      "text/html": [
       "<div>\n",
       "<style scoped>\n",
       "    .dataframe tbody tr th:only-of-type {\n",
       "        vertical-align: middle;\n",
       "    }\n",
       "\n",
       "    .dataframe tbody tr th {\n",
       "        vertical-align: top;\n",
       "    }\n",
       "\n",
       "    .dataframe thead th {\n",
       "        text-align: right;\n",
       "    }\n",
       "</style>\n",
       "<table border=\"1\" class=\"dataframe\">\n",
       "  <thead>\n",
       "    <tr style=\"text-align: right;\">\n",
       "      <th></th>\n",
       "      <th>totalcountconfirmed</th>\n",
       "      <th>totalcountdeaths</th>\n",
       "      <th>newcountconfirmed</th>\n",
       "      <th>newcountdeaths</th>\n",
       "    </tr>\n",
       "  </thead>\n",
       "  <tbody>\n",
       "    <tr>\n",
       "      <th>count</th>\n",
       "      <td>11462.000000</td>\n",
       "      <td>11463.00000</td>\n",
       "      <td>11465.000000</td>\n",
       "      <td>11465.000000</td>\n",
       "    </tr>\n",
       "    <tr>\n",
       "      <th>mean</th>\n",
       "      <td>5035.519281</td>\n",
       "      <td>107.21251</td>\n",
       "      <td>69.623812</td>\n",
       "      <td>1.354732</td>\n",
       "    </tr>\n",
       "    <tr>\n",
       "      <th>std</th>\n",
       "      <td>19910.579957</td>\n",
       "      <td>495.16508</td>\n",
       "      <td>237.207625</td>\n",
       "      <td>5.692810</td>\n",
       "    </tr>\n",
       "    <tr>\n",
       "      <th>min</th>\n",
       "      <td>0.000000</td>\n",
       "      <td>0.00000</td>\n",
       "      <td>-111.000000</td>\n",
       "      <td>-16.000000</td>\n",
       "    </tr>\n",
       "    <tr>\n",
       "      <th>25%</th>\n",
       "      <td>22.000000</td>\n",
       "      <td>0.00000</td>\n",
       "      <td>0.000000</td>\n",
       "      <td>0.000000</td>\n",
       "    </tr>\n",
       "    <tr>\n",
       "      <th>50%</th>\n",
       "      <td>256.000000</td>\n",
       "      <td>4.00000</td>\n",
       "      <td>5.000000</td>\n",
       "      <td>0.000000</td>\n",
       "    </tr>\n",
       "    <tr>\n",
       "      <th>75%</th>\n",
       "      <td>2503.000000</td>\n",
       "      <td>44.00000</td>\n",
       "      <td>44.000000</td>\n",
       "      <td>0.000000</td>\n",
       "    </tr>\n",
       "    <tr>\n",
       "      <th>max</th>\n",
       "      <td>265713.000000</td>\n",
       "      <td>6488.00000</td>\n",
       "      <td>4493.000000</td>\n",
       "      <td>90.000000</td>\n",
       "    </tr>\n",
       "  </tbody>\n",
       "</table>\n",
       "</div>"
      ],
      "text/plain": [
       "       totalcountconfirmed  totalcountdeaths  newcountconfirmed  \\\n",
       "count         11462.000000       11463.00000       11465.000000   \n",
       "mean           5035.519281         107.21251          69.623812   \n",
       "std           19910.579957         495.16508         237.207625   \n",
       "min               0.000000           0.00000        -111.000000   \n",
       "25%              22.000000           0.00000           0.000000   \n",
       "50%             256.000000           4.00000           5.000000   \n",
       "75%            2503.000000          44.00000          44.000000   \n",
       "max          265713.000000        6488.00000        4493.000000   \n",
       "\n",
       "       newcountdeaths  \n",
       "count    11465.000000  \n",
       "mean         1.354732  \n",
       "std          5.692810  \n",
       "min        -16.000000  \n",
       "25%          0.000000  \n",
       "50%          0.000000  \n",
       "75%          0.000000  \n",
       "max         90.000000  "
      ]
     },
     "execution_count": 15,
     "metadata": {},
     "output_type": "execute_result"
    }
   ],
   "source": [
    "df.describe()"
   ]
  },
  {
   "cell_type": "code",
   "execution_count": 16,
   "metadata": {},
   "outputs": [
    {
     "data": {
      "text/plain": [
       "60"
      ]
     },
     "execution_count": 16,
     "metadata": {},
     "output_type": "execute_result"
    }
   ],
   "source": [
    "# get the number of unique counties\n",
    "df.county.nunique()"
   ]
  },
  {
   "cell_type": "code",
   "execution_count": 17,
   "metadata": {},
   "outputs": [
    {
     "data": {
      "text/plain": [
       "192"
      ]
     },
     "execution_count": 17,
     "metadata": {},
     "output_type": "execute_result"
    }
   ],
   "source": [
    "# get the number of unique dates\n",
    "df.date.nunique()"
   ]
  },
  {
   "cell_type": "code",
   "execution_count": 18,
   "metadata": {},
   "outputs": [
    {
     "name": "stdout",
     "output_type": "stream",
     "text": [
      "2020-09-25\n"
     ]
    }
   ],
   "source": [
    "print(str(df.date.max()))"
   ]
  },
  {
   "cell_type": "code",
   "execution_count": 19,
   "metadata": {},
   "outputs": [
    {
     "data": {
      "text/plain": [
       "Index(['county', 'totalcountconfirmed', 'totalcountdeaths',\n",
       "       'newcountconfirmed', 'newcountdeaths', 'date'],\n",
       "      dtype='object')"
      ]
     },
     "execution_count": 19,
     "metadata": {},
     "output_type": "execute_result"
    }
   ],
   "source": [
    "# show the Column names in the dataset\n",
    "# uses df.datypes instead\n",
    "df.columns"
   ]
  },
  {
   "cell_type": "code",
   "execution_count": 20,
   "metadata": {},
   "outputs": [
    {
     "data": {
      "text/plain": [
       "array(['Santa Clara', 'San Mateo', 'Santa Barbara', 'Tuolumne', 'Sierra',\n",
       "       'Placer', 'San Luis Obispo', 'Solano', 'Monterey', 'Yuba',\n",
       "       'San Francisco', 'Orange', 'Mono', 'Calaveras', 'Alpine', 'Nevada',\n",
       "       'Butte', 'Santa Cruz', 'Mendocino', 'Fresno', 'Inyo',\n",
       "       'San Joaquin', 'Ventura', 'Trinity', 'Mariposa', 'El Dorado',\n",
       "       'Sonoma', 'Shasta', 'Lassen', 'Colusa', 'Lake', 'Modoc', 'Tulare',\n",
       "       'San Benito', 'Alameda', 'Marin', 'San Diego', 'Out Of Country',\n",
       "       'Glenn', 'Siskiyou', 'Madera', 'Tehama', 'Sutter', 'Napa',\n",
       "       'Los Angeles', 'Sacramento', 'Merced', 'Kings', 'Kern',\n",
       "       'Riverside', 'Unassigned', 'Contra Costa', 'Del Norte',\n",
       "       'San Bernardino', 'Stanislaus', 'Humboldt', 'Plumas', 'Amador',\n",
       "       'Imperial', 'Yolo'], dtype=object)"
      ]
     },
     "execution_count": 20,
     "metadata": {},
     "output_type": "execute_result"
    }
   ],
   "source": [
    "# distinct values in a column\n",
    "df.county.unique()"
   ]
  },
  {
   "cell_type": "code",
   "execution_count": 21,
   "metadata": {},
   "outputs": [
    {
     "name": "stdout",
     "output_type": "stream",
     "text": [
      "Santa Clara\n",
      "San Mateo\n",
      "Santa Barbara\n",
      "Tuolumne\n",
      "Sierra\n",
      "Placer\n",
      "San Luis Obispo\n",
      "Solano\n",
      "Monterey\n",
      "Yuba\n",
      "San Francisco\n",
      "Orange\n",
      "Mono\n",
      "Calaveras\n",
      "Alpine\n",
      "Nevada\n",
      "Butte\n",
      "Santa Cruz\n",
      "Mendocino\n",
      "Fresno\n",
      "Inyo\n",
      "San Joaquin\n",
      "Ventura\n",
      "Trinity\n",
      "Mariposa\n",
      "El Dorado\n",
      "Sonoma\n",
      "Shasta\n",
      "Lassen\n",
      "Colusa\n",
      "Lake\n",
      "Modoc\n",
      "Tulare\n",
      "San Benito\n",
      "Alameda\n",
      "Marin\n",
      "San Diego\n",
      "Out Of Country\n",
      "Glenn\n",
      "Siskiyou\n",
      "Madera\n",
      "Tehama\n",
      "Sutter\n",
      "Napa\n",
      "Los Angeles\n",
      "Sacramento\n",
      "Merced\n",
      "Kings\n",
      "Kern\n",
      "Riverside\n",
      "Unassigned\n",
      "Contra Costa\n",
      "Del Norte\n",
      "San Bernardino\n",
      "Stanislaus\n",
      "Humboldt\n",
      "Plumas\n",
      "Amador\n",
      "Imperial\n",
      "Yolo\n"
     ]
    }
   ],
   "source": [
    "# a little less ugly\n",
    "for name in df.county.unique():\n",
    "    print(name)"
   ]
  },
  {
   "cell_type": "code",
   "execution_count": 22,
   "metadata": {},
   "outputs": [
    {
     "data": {
      "text/plain": [
       "Placer             192\n",
       "Santa Cruz         192\n",
       "Yuba               192\n",
       "San Bernardino     192\n",
       "Trinity            192\n",
       "Shasta             192\n",
       "San Mateo          192\n",
       "Mono               192\n",
       "Kings              192\n",
       "San Joaquin        192\n",
       "San Luis Obispo    192\n",
       "Plumas             192\n",
       "Santa Clara        192\n",
       "Imperial           192\n",
       "Los Angeles        192\n",
       "Stanislaus         192\n",
       "Del Norte          192\n",
       "Calaveras          192\n",
       "Mariposa           192\n",
       "Solano             192\n",
       "Marin              192\n",
       "Ventura            192\n",
       "Riverside          192\n",
       "Sonoma             192\n",
       "San Francisco      192\n",
       "Napa               192\n",
       "Madera             192\n",
       "Tulare             192\n",
       "Alameda            192\n",
       "Sutter             192\n",
       "Merced             192\n",
       "El Dorado          192\n",
       "Monterey           192\n",
       "Tehama             192\n",
       "Contra Costa       192\n",
       "Lassen             192\n",
       "Inyo               192\n",
       "Siskiyou           192\n",
       "Humboldt           192\n",
       "Kern               192\n",
       "Santa Barbara      192\n",
       "Colusa             192\n",
       "Mendocino          192\n",
       "Glenn              192\n",
       "Amador             192\n",
       "San Benito         192\n",
       "Unassigned         192\n",
       "Fresno             192\n",
       "Tuolumne           192\n",
       "San Diego          192\n",
       "Nevada             192\n",
       "Orange             192\n",
       "Butte              192\n",
       "Sacramento         192\n",
       "Yolo               192\n",
       "Sierra             191\n",
       "Lake               191\n",
       "Alpine             180\n",
       "Modoc              176\n",
       "Out Of Country     167\n",
       "Name: county, dtype: int64"
      ]
     },
     "execution_count": 22,
     "metadata": {},
     "output_type": "execute_result"
    }
   ],
   "source": [
    "# count the number of values in a Column\n",
    "df.county.value_counts()"
   ]
  },
  {
   "cell_type": "code",
   "execution_count": 23,
   "metadata": {},
   "outputs": [],
   "source": [
    "# create datetime objects for the \"dateRep\" column\n",
    "df.date=pd.to_datetime(df.date,format=\"%Y-%m-%dT%H:%M:%S\")"
   ]
  },
  {
   "cell_type": "code",
   "execution_count": 24,
   "metadata": {},
   "outputs": [
    {
     "data": {
      "text/html": [
       "<div>\n",
       "<style scoped>\n",
       "    .dataframe tbody tr th:only-of-type {\n",
       "        vertical-align: middle;\n",
       "    }\n",
       "\n",
       "    .dataframe tbody tr th {\n",
       "        vertical-align: top;\n",
       "    }\n",
       "\n",
       "    .dataframe thead th {\n",
       "        text-align: right;\n",
       "    }\n",
       "</style>\n",
       "<table border=\"1\" class=\"dataframe\">\n",
       "  <thead>\n",
       "    <tr style=\"text-align: right;\">\n",
       "      <th></th>\n",
       "      <th>county</th>\n",
       "      <th>totalcountconfirmed</th>\n",
       "      <th>totalcountdeaths</th>\n",
       "      <th>newcountconfirmed</th>\n",
       "      <th>newcountdeaths</th>\n",
       "      <th>date</th>\n",
       "    </tr>\n",
       "  </thead>\n",
       "  <tbody>\n",
       "    <tr>\n",
       "      <th>0</th>\n",
       "      <td>Santa Clara</td>\n",
       "      <td>151.0</td>\n",
       "      <td>6.0</td>\n",
       "      <td>151</td>\n",
       "      <td>6</td>\n",
       "      <td>2020-03-18</td>\n",
       "    </tr>\n",
       "    <tr>\n",
       "      <th>1</th>\n",
       "      <td>Santa Clara</td>\n",
       "      <td>183.0</td>\n",
       "      <td>8.0</td>\n",
       "      <td>32</td>\n",
       "      <td>2</td>\n",
       "      <td>2020-03-19</td>\n",
       "    </tr>\n",
       "    <tr>\n",
       "      <th>2</th>\n",
       "      <td>Santa Clara</td>\n",
       "      <td>246.0</td>\n",
       "      <td>8.0</td>\n",
       "      <td>63</td>\n",
       "      <td>0</td>\n",
       "      <td>2020-03-20</td>\n",
       "    </tr>\n",
       "    <tr>\n",
       "      <th>3</th>\n",
       "      <td>Santa Clara</td>\n",
       "      <td>269.0</td>\n",
       "      <td>10.0</td>\n",
       "      <td>23</td>\n",
       "      <td>2</td>\n",
       "      <td>2020-03-21</td>\n",
       "    </tr>\n",
       "    <tr>\n",
       "      <th>4</th>\n",
       "      <td>Santa Clara</td>\n",
       "      <td>284.0</td>\n",
       "      <td>13.0</td>\n",
       "      <td>15</td>\n",
       "      <td>3</td>\n",
       "      <td>2020-03-22</td>\n",
       "    </tr>\n",
       "  </tbody>\n",
       "</table>\n",
       "</div>"
      ],
      "text/plain": [
       "        county  totalcountconfirmed  totalcountdeaths  newcountconfirmed  \\\n",
       "0  Santa Clara                151.0               6.0                151   \n",
       "1  Santa Clara                183.0               8.0                 32   \n",
       "2  Santa Clara                246.0               8.0                 63   \n",
       "3  Santa Clara                269.0              10.0                 23   \n",
       "4  Santa Clara                284.0              13.0                 15   \n",
       "\n",
       "   newcountdeaths       date  \n",
       "0               6 2020-03-18  \n",
       "1               2 2020-03-19  \n",
       "2               0 2020-03-20  \n",
       "3               2 2020-03-21  \n",
       "4               3 2020-03-22  "
      ]
     },
     "execution_count": 24,
     "metadata": {},
     "output_type": "execute_result"
    }
   ],
   "source": [
    "df.head()"
   ]
  },
  {
   "cell_type": "code",
   "execution_count": 25,
   "metadata": {},
   "outputs": [],
   "source": [
    "# reshape the data, just so that we can see the statistics by county\n",
    "stats_by_county=df.pivot(index=\"date\",columns=\"county\",values=\"newcountconfirmed\")"
   ]
  },
  {
   "cell_type": "code",
   "execution_count": 26,
   "metadata": {},
   "outputs": [
    {
     "data": {
      "text/html": [
       "<div>\n",
       "<style scoped>\n",
       "    .dataframe tbody tr th:only-of-type {\n",
       "        vertical-align: middle;\n",
       "    }\n",
       "\n",
       "    .dataframe tbody tr th {\n",
       "        vertical-align: top;\n",
       "    }\n",
       "\n",
       "    .dataframe thead th {\n",
       "        text-align: right;\n",
       "    }\n",
       "</style>\n",
       "<table border=\"1\" class=\"dataframe\">\n",
       "  <thead>\n",
       "    <tr style=\"text-align: right;\">\n",
       "      <th>county</th>\n",
       "      <th>Alameda</th>\n",
       "      <th>Alpine</th>\n",
       "      <th>Amador</th>\n",
       "      <th>Butte</th>\n",
       "      <th>Calaveras</th>\n",
       "      <th>Colusa</th>\n",
       "      <th>Contra Costa</th>\n",
       "      <th>Del Norte</th>\n",
       "      <th>El Dorado</th>\n",
       "      <th>Fresno</th>\n",
       "      <th>...</th>\n",
       "      <th>Stanislaus</th>\n",
       "      <th>Sutter</th>\n",
       "      <th>Tehama</th>\n",
       "      <th>Trinity</th>\n",
       "      <th>Tulare</th>\n",
       "      <th>Tuolumne</th>\n",
       "      <th>Unassigned</th>\n",
       "      <th>Ventura</th>\n",
       "      <th>Yolo</th>\n",
       "      <th>Yuba</th>\n",
       "    </tr>\n",
       "    <tr>\n",
       "      <th>date</th>\n",
       "      <th></th>\n",
       "      <th></th>\n",
       "      <th></th>\n",
       "      <th></th>\n",
       "      <th></th>\n",
       "      <th></th>\n",
       "      <th></th>\n",
       "      <th></th>\n",
       "      <th></th>\n",
       "      <th></th>\n",
       "      <th></th>\n",
       "      <th></th>\n",
       "      <th></th>\n",
       "      <th></th>\n",
       "      <th></th>\n",
       "      <th></th>\n",
       "      <th></th>\n",
       "      <th></th>\n",
       "      <th></th>\n",
       "      <th></th>\n",
       "      <th></th>\n",
       "    </tr>\n",
       "  </thead>\n",
       "  <tbody>\n",
       "    <tr>\n",
       "      <th>2020-03-18</th>\n",
       "      <td>29.0</td>\n",
       "      <td>NaN</td>\n",
       "      <td>0.0</td>\n",
       "      <td>0.0</td>\n",
       "      <td>2.0</td>\n",
       "      <td>0.0</td>\n",
       "      <td>44.0</td>\n",
       "      <td>0.0</td>\n",
       "      <td>0.0</td>\n",
       "      <td>3.0</td>\n",
       "      <td>...</td>\n",
       "      <td>5.0</td>\n",
       "      <td>0.0</td>\n",
       "      <td>0.0</td>\n",
       "      <td>0.0</td>\n",
       "      <td>3.0</td>\n",
       "      <td>0.0</td>\n",
       "      <td>21.0</td>\n",
       "      <td>11.0</td>\n",
       "      <td>4.0</td>\n",
       "      <td>0.0</td>\n",
       "    </tr>\n",
       "    <tr>\n",
       "      <th>2020-03-19</th>\n",
       "      <td>7.0</td>\n",
       "      <td>NaN</td>\n",
       "      <td>0.0</td>\n",
       "      <td>0.0</td>\n",
       "      <td>0.0</td>\n",
       "      <td>0.0</td>\n",
       "      <td>2.0</td>\n",
       "      <td>0.0</td>\n",
       "      <td>0.0</td>\n",
       "      <td>3.0</td>\n",
       "      <td>...</td>\n",
       "      <td>2.0</td>\n",
       "      <td>0.0</td>\n",
       "      <td>0.0</td>\n",
       "      <td>0.0</td>\n",
       "      <td>0.0</td>\n",
       "      <td>0.0</td>\n",
       "      <td>-8.0</td>\n",
       "      <td>4.0</td>\n",
       "      <td>1.0</td>\n",
       "      <td>0.0</td>\n",
       "    </tr>\n",
       "    <tr>\n",
       "      <th>2020-03-20</th>\n",
       "      <td>6.0</td>\n",
       "      <td>NaN</td>\n",
       "      <td>0.0</td>\n",
       "      <td>0.0</td>\n",
       "      <td>0.0</td>\n",
       "      <td>0.0</td>\n",
       "      <td>6.0</td>\n",
       "      <td>0.0</td>\n",
       "      <td>1.0</td>\n",
       "      <td>1.0</td>\n",
       "      <td>...</td>\n",
       "      <td>0.0</td>\n",
       "      <td>0.0</td>\n",
       "      <td>0.0</td>\n",
       "      <td>0.0</td>\n",
       "      <td>1.0</td>\n",
       "      <td>0.0</td>\n",
       "      <td>3.0</td>\n",
       "      <td>3.0</td>\n",
       "      <td>0.0</td>\n",
       "      <td>0.0</td>\n",
       "    </tr>\n",
       "    <tr>\n",
       "      <th>2020-03-21</th>\n",
       "      <td>20.0</td>\n",
       "      <td>NaN</td>\n",
       "      <td>1.0</td>\n",
       "      <td>1.0</td>\n",
       "      <td>0.0</td>\n",
       "      <td>0.0</td>\n",
       "      <td>10.0</td>\n",
       "      <td>0.0</td>\n",
       "      <td>0.0</td>\n",
       "      <td>1.0</td>\n",
       "      <td>...</td>\n",
       "      <td>0.0</td>\n",
       "      <td>0.0</td>\n",
       "      <td>0.0</td>\n",
       "      <td>0.0</td>\n",
       "      <td>1.0</td>\n",
       "      <td>0.0</td>\n",
       "      <td>38.0</td>\n",
       "      <td>4.0</td>\n",
       "      <td>1.0</td>\n",
       "      <td>1.0</td>\n",
       "    </tr>\n",
       "    <tr>\n",
       "      <th>2020-03-22</th>\n",
       "      <td>10.0</td>\n",
       "      <td>NaN</td>\n",
       "      <td>0.0</td>\n",
       "      <td>0.0</td>\n",
       "      <td>0.0</td>\n",
       "      <td>0.0</td>\n",
       "      <td>17.0</td>\n",
       "      <td>0.0</td>\n",
       "      <td>0.0</td>\n",
       "      <td>0.0</td>\n",
       "      <td>...</td>\n",
       "      <td>1.0</td>\n",
       "      <td>0.0</td>\n",
       "      <td>0.0</td>\n",
       "      <td>0.0</td>\n",
       "      <td>0.0</td>\n",
       "      <td>0.0</td>\n",
       "      <td>5.0</td>\n",
       "      <td>4.0</td>\n",
       "      <td>0.0</td>\n",
       "      <td>1.0</td>\n",
       "    </tr>\n",
       "  </tbody>\n",
       "</table>\n",
       "<p>5 rows × 60 columns</p>\n",
       "</div>"
      ],
      "text/plain": [
       "county      Alameda  Alpine  Amador  Butte  Calaveras  Colusa  Contra Costa  \\\n",
       "date                                                                          \n",
       "2020-03-18     29.0     NaN     0.0    0.0        2.0     0.0          44.0   \n",
       "2020-03-19      7.0     NaN     0.0    0.0        0.0     0.0           2.0   \n",
       "2020-03-20      6.0     NaN     0.0    0.0        0.0     0.0           6.0   \n",
       "2020-03-21     20.0     NaN     1.0    1.0        0.0     0.0          10.0   \n",
       "2020-03-22     10.0     NaN     0.0    0.0        0.0     0.0          17.0   \n",
       "\n",
       "county      Del Norte  El Dorado  Fresno  ...  Stanislaus  Sutter  Tehama  \\\n",
       "date                                      ...                               \n",
       "2020-03-18        0.0        0.0     3.0  ...         5.0     0.0     0.0   \n",
       "2020-03-19        0.0        0.0     3.0  ...         2.0     0.0     0.0   \n",
       "2020-03-20        0.0        1.0     1.0  ...         0.0     0.0     0.0   \n",
       "2020-03-21        0.0        0.0     1.0  ...         0.0     0.0     0.0   \n",
       "2020-03-22        0.0        0.0     0.0  ...         1.0     0.0     0.0   \n",
       "\n",
       "county      Trinity  Tulare  Tuolumne  Unassigned  Ventura  Yolo  Yuba  \n",
       "date                                                                    \n",
       "2020-03-18      0.0     3.0       0.0        21.0     11.0   4.0   0.0  \n",
       "2020-03-19      0.0     0.0       0.0        -8.0      4.0   1.0   0.0  \n",
       "2020-03-20      0.0     1.0       0.0         3.0      3.0   0.0   0.0  \n",
       "2020-03-21      0.0     1.0       0.0        38.0      4.0   1.0   1.0  \n",
       "2020-03-22      0.0     0.0       0.0         5.0      4.0   0.0   1.0  \n",
       "\n",
       "[5 rows x 60 columns]"
      ]
     },
     "execution_count": 26,
     "metadata": {},
     "output_type": "execute_result"
    }
   ],
   "source": [
    "stats_by_county.head()"
   ]
  },
  {
   "cell_type": "code",
   "execution_count": 27,
   "metadata": {},
   "outputs": [
    {
     "data": {
      "text/plain": [
       "count     14.000000\n",
       "mean      91.857143\n",
       "std       30.510672\n",
       "min       36.000000\n",
       "25%       76.000000\n",
       "50%       79.000000\n",
       "75%      117.750000\n",
       "max      137.000000\n",
       "Name: Alameda, dtype: float64"
      ]
     },
     "execution_count": 27,
     "metadata": {},
     "output_type": "execute_result"
    }
   ],
   "source": [
    "stats_by_county['Alameda'].tail(14).describe()"
   ]
  },
  {
   "cell_type": "code",
   "execution_count": 28,
   "metadata": {},
   "outputs": [
    {
     "data": {
      "text/html": [
       "<div>\n",
       "<style scoped>\n",
       "    .dataframe tbody tr th:only-of-type {\n",
       "        vertical-align: middle;\n",
       "    }\n",
       "\n",
       "    .dataframe tbody tr th {\n",
       "        vertical-align: top;\n",
       "    }\n",
       "\n",
       "    .dataframe thead th {\n",
       "        text-align: right;\n",
       "    }\n",
       "</style>\n",
       "<table border=\"1\" class=\"dataframe\">\n",
       "  <thead>\n",
       "    <tr style=\"text-align: right;\">\n",
       "      <th>county</th>\n",
       "      <th>Alameda</th>\n",
       "      <th>Alpine</th>\n",
       "      <th>Amador</th>\n",
       "      <th>Butte</th>\n",
       "      <th>Calaveras</th>\n",
       "      <th>Colusa</th>\n",
       "      <th>Contra Costa</th>\n",
       "      <th>Del Norte</th>\n",
       "      <th>El Dorado</th>\n",
       "      <th>Fresno</th>\n",
       "      <th>...</th>\n",
       "      <th>Stanislaus</th>\n",
       "      <th>Sutter</th>\n",
       "      <th>Tehama</th>\n",
       "      <th>Trinity</th>\n",
       "      <th>Tulare</th>\n",
       "      <th>Tuolumne</th>\n",
       "      <th>Unassigned</th>\n",
       "      <th>Ventura</th>\n",
       "      <th>Yolo</th>\n",
       "      <th>Yuba</th>\n",
       "    </tr>\n",
       "  </thead>\n",
       "  <tbody>\n",
       "    <tr>\n",
       "      <th>count</th>\n",
       "      <td>192.000000</td>\n",
       "      <td>180.000000</td>\n",
       "      <td>192.000000</td>\n",
       "      <td>192.000000</td>\n",
       "      <td>192.000000</td>\n",
       "      <td>192.000000</td>\n",
       "      <td>192.000000</td>\n",
       "      <td>192.000000</td>\n",
       "      <td>192.000000</td>\n",
       "      <td>192.000000</td>\n",
       "      <td>...</td>\n",
       "      <td>192.000000</td>\n",
       "      <td>192.000000</td>\n",
       "      <td>192.000000</td>\n",
       "      <td>192.000000</td>\n",
       "      <td>192.000000</td>\n",
       "      <td>192.000000</td>\n",
       "      <td>192.000000</td>\n",
       "      <td>192.000000</td>\n",
       "      <td>192.000000</td>\n",
       "      <td>192.000000</td>\n",
       "    </tr>\n",
       "    <tr>\n",
       "      <th>mean</th>\n",
       "      <td>108.911458</td>\n",
       "      <td>0.011111</td>\n",
       "      <td>1.505208</td>\n",
       "      <td>14.682292</td>\n",
       "      <td>1.338542</td>\n",
       "      <td>2.750000</td>\n",
       "      <td>85.421875</td>\n",
       "      <td>0.718750</td>\n",
       "      <td>5.750000</td>\n",
       "      <td>146.869792</td>\n",
       "      <td>...</td>\n",
       "      <td>85.317708</td>\n",
       "      <td>8.619792</td>\n",
       "      <td>2.843750</td>\n",
       "      <td>0.078125</td>\n",
       "      <td>82.369792</td>\n",
       "      <td>1.161458</td>\n",
       "      <td>0.057292</td>\n",
       "      <td>65.958333</td>\n",
       "      <td>14.500000</td>\n",
       "      <td>5.463542</td>\n",
       "    </tr>\n",
       "    <tr>\n",
       "      <th>std</th>\n",
       "      <td>88.821649</td>\n",
       "      <td>0.105114</td>\n",
       "      <td>3.600462</td>\n",
       "      <td>21.883990</td>\n",
       "      <td>3.731144</td>\n",
       "      <td>4.907522</td>\n",
       "      <td>84.809513</td>\n",
       "      <td>2.205197</td>\n",
       "      <td>7.017555</td>\n",
       "      <td>150.375024</td>\n",
       "      <td>...</td>\n",
       "      <td>112.777723</td>\n",
       "      <td>12.068141</td>\n",
       "      <td>3.871843</td>\n",
       "      <td>0.367731</td>\n",
       "      <td>86.388164</td>\n",
       "      <td>2.449484</td>\n",
       "      <td>5.717782</td>\n",
       "      <td>62.476369</td>\n",
       "      <td>15.358883</td>\n",
       "      <td>9.205548</td>\n",
       "    </tr>\n",
       "    <tr>\n",
       "      <th>min</th>\n",
       "      <td>2.000000</td>\n",
       "      <td>0.000000</td>\n",
       "      <td>0.000000</td>\n",
       "      <td>-1.000000</td>\n",
       "      <td>-4.000000</td>\n",
       "      <td>-1.000000</td>\n",
       "      <td>2.000000</td>\n",
       "      <td>0.000000</td>\n",
       "      <td>-1.000000</td>\n",
       "      <td>0.000000</td>\n",
       "      <td>...</td>\n",
       "      <td>-2.000000</td>\n",
       "      <td>-1.000000</td>\n",
       "      <td>-2.000000</td>\n",
       "      <td>-1.000000</td>\n",
       "      <td>-2.000000</td>\n",
       "      <td>-1.000000</td>\n",
       "      <td>-51.000000</td>\n",
       "      <td>2.000000</td>\n",
       "      <td>-3.000000</td>\n",
       "      <td>-2.000000</td>\n",
       "    </tr>\n",
       "    <tr>\n",
       "      <th>25%</th>\n",
       "      <td>48.750000</td>\n",
       "      <td>0.000000</td>\n",
       "      <td>0.000000</td>\n",
       "      <td>1.000000</td>\n",
       "      <td>0.000000</td>\n",
       "      <td>0.000000</td>\n",
       "      <td>20.000000</td>\n",
       "      <td>0.000000</td>\n",
       "      <td>1.000000</td>\n",
       "      <td>26.000000</td>\n",
       "      <td>...</td>\n",
       "      <td>10.750000</td>\n",
       "      <td>0.000000</td>\n",
       "      <td>0.000000</td>\n",
       "      <td>0.000000</td>\n",
       "      <td>19.750000</td>\n",
       "      <td>0.000000</td>\n",
       "      <td>-1.000000</td>\n",
       "      <td>17.000000</td>\n",
       "      <td>2.000000</td>\n",
       "      <td>0.000000</td>\n",
       "    </tr>\n",
       "    <tr>\n",
       "      <th>50%</th>\n",
       "      <td>76.500000</td>\n",
       "      <td>0.000000</td>\n",
       "      <td>0.000000</td>\n",
       "      <td>4.000000</td>\n",
       "      <td>0.000000</td>\n",
       "      <td>0.000000</td>\n",
       "      <td>54.000000</td>\n",
       "      <td>0.000000</td>\n",
       "      <td>3.000000</td>\n",
       "      <td>84.000000</td>\n",
       "      <td>...</td>\n",
       "      <td>42.000000</td>\n",
       "      <td>4.000000</td>\n",
       "      <td>1.000000</td>\n",
       "      <td>0.000000</td>\n",
       "      <td>61.000000</td>\n",
       "      <td>0.000000</td>\n",
       "      <td>0.000000</td>\n",
       "      <td>43.500000</td>\n",
       "      <td>8.000000</td>\n",
       "      <td>1.000000</td>\n",
       "    </tr>\n",
       "    <tr>\n",
       "      <th>75%</th>\n",
       "      <td>145.000000</td>\n",
       "      <td>0.000000</td>\n",
       "      <td>1.000000</td>\n",
       "      <td>22.000000</td>\n",
       "      <td>1.250000</td>\n",
       "      <td>4.000000</td>\n",
       "      <td>128.750000</td>\n",
       "      <td>0.000000</td>\n",
       "      <td>8.000000</td>\n",
       "      <td>252.250000</td>\n",
       "      <td>...</td>\n",
       "      <td>116.500000</td>\n",
       "      <td>14.000000</td>\n",
       "      <td>5.000000</td>\n",
       "      <td>0.000000</td>\n",
       "      <td>118.000000</td>\n",
       "      <td>2.000000</td>\n",
       "      <td>1.000000</td>\n",
       "      <td>99.250000</td>\n",
       "      <td>24.250000</td>\n",
       "      <td>9.000000</td>\n",
       "    </tr>\n",
       "    <tr>\n",
       "      <th>max</th>\n",
       "      <td>540.000000</td>\n",
       "      <td>1.000000</td>\n",
       "      <td>29.000000</td>\n",
       "      <td>122.000000</td>\n",
       "      <td>40.000000</td>\n",
       "      <td>36.000000</td>\n",
       "      <td>558.000000</td>\n",
       "      <td>21.000000</td>\n",
       "      <td>33.000000</td>\n",
       "      <td>743.000000</td>\n",
       "      <td>...</td>\n",
       "      <td>737.000000</td>\n",
       "      <td>99.000000</td>\n",
       "      <td>17.000000</td>\n",
       "      <td>2.000000</td>\n",
       "      <td>642.000000</td>\n",
       "      <td>16.000000</td>\n",
       "      <td>38.000000</td>\n",
       "      <td>298.000000</td>\n",
       "      <td>75.000000</td>\n",
       "      <td>85.000000</td>\n",
       "    </tr>\n",
       "  </tbody>\n",
       "</table>\n",
       "<p>8 rows × 60 columns</p>\n",
       "</div>"
      ],
      "text/plain": [
       "county     Alameda      Alpine      Amador       Butte   Calaveras  \\\n",
       "count   192.000000  180.000000  192.000000  192.000000  192.000000   \n",
       "mean    108.911458    0.011111    1.505208   14.682292    1.338542   \n",
       "std      88.821649    0.105114    3.600462   21.883990    3.731144   \n",
       "min       2.000000    0.000000    0.000000   -1.000000   -4.000000   \n",
       "25%      48.750000    0.000000    0.000000    1.000000    0.000000   \n",
       "50%      76.500000    0.000000    0.000000    4.000000    0.000000   \n",
       "75%     145.000000    0.000000    1.000000   22.000000    1.250000   \n",
       "max     540.000000    1.000000   29.000000  122.000000   40.000000   \n",
       "\n",
       "county      Colusa  Contra Costa   Del Norte   El Dorado      Fresno  ...  \\\n",
       "count   192.000000    192.000000  192.000000  192.000000  192.000000  ...   \n",
       "mean      2.750000     85.421875    0.718750    5.750000  146.869792  ...   \n",
       "std       4.907522     84.809513    2.205197    7.017555  150.375024  ...   \n",
       "min      -1.000000      2.000000    0.000000   -1.000000    0.000000  ...   \n",
       "25%       0.000000     20.000000    0.000000    1.000000   26.000000  ...   \n",
       "50%       0.000000     54.000000    0.000000    3.000000   84.000000  ...   \n",
       "75%       4.000000    128.750000    0.000000    8.000000  252.250000  ...   \n",
       "max      36.000000    558.000000   21.000000   33.000000  743.000000  ...   \n",
       "\n",
       "county  Stanislaus      Sutter      Tehama     Trinity      Tulare  \\\n",
       "count   192.000000  192.000000  192.000000  192.000000  192.000000   \n",
       "mean     85.317708    8.619792    2.843750    0.078125   82.369792   \n",
       "std     112.777723   12.068141    3.871843    0.367731   86.388164   \n",
       "min      -2.000000   -1.000000   -2.000000   -1.000000   -2.000000   \n",
       "25%      10.750000    0.000000    0.000000    0.000000   19.750000   \n",
       "50%      42.000000    4.000000    1.000000    0.000000   61.000000   \n",
       "75%     116.500000   14.000000    5.000000    0.000000  118.000000   \n",
       "max     737.000000   99.000000   17.000000    2.000000  642.000000   \n",
       "\n",
       "county    Tuolumne  Unassigned     Ventura        Yolo        Yuba  \n",
       "count   192.000000  192.000000  192.000000  192.000000  192.000000  \n",
       "mean      1.161458    0.057292   65.958333   14.500000    5.463542  \n",
       "std       2.449484    5.717782   62.476369   15.358883    9.205548  \n",
       "min      -1.000000  -51.000000    2.000000   -3.000000   -2.000000  \n",
       "25%       0.000000   -1.000000   17.000000    2.000000    0.000000  \n",
       "50%       0.000000    0.000000   43.500000    8.000000    1.000000  \n",
       "75%       2.000000    1.000000   99.250000   24.250000    9.000000  \n",
       "max      16.000000   38.000000  298.000000   75.000000   85.000000  \n",
       "\n",
       "[8 rows x 60 columns]"
      ]
     },
     "execution_count": 28,
     "metadata": {},
     "output_type": "execute_result"
    }
   ],
   "source": [
    "stats_by_county.describe(include='all')"
   ]
  },
  {
   "cell_type": "code",
   "execution_count": 29,
   "metadata": {},
   "outputs": [],
   "source": [
    "# reshape the data: county in rows, dates in columns and values should be newcountconfirmed\n",
    "confirmed_by_county=df.pivot(index=\"county\",columns=\"date\",values=\"newcountconfirmed\")"
   ]
  },
  {
   "cell_type": "code",
   "execution_count": 30,
   "metadata": {},
   "outputs": [
    {
     "data": {
      "text/html": [
       "<div>\n",
       "<style scoped>\n",
       "    .dataframe tbody tr th:only-of-type {\n",
       "        vertical-align: middle;\n",
       "    }\n",
       "\n",
       "    .dataframe tbody tr th {\n",
       "        vertical-align: top;\n",
       "    }\n",
       "\n",
       "    .dataframe thead th {\n",
       "        text-align: right;\n",
       "    }\n",
       "</style>\n",
       "<table border=\"1\" class=\"dataframe\">\n",
       "  <thead>\n",
       "    <tr style=\"text-align: right;\">\n",
       "      <th>date</th>\n",
       "      <th>2020-03-18</th>\n",
       "      <th>2020-03-19</th>\n",
       "      <th>2020-03-20</th>\n",
       "      <th>2020-03-21</th>\n",
       "      <th>2020-03-22</th>\n",
       "      <th>2020-03-23</th>\n",
       "      <th>2020-03-24</th>\n",
       "      <th>2020-03-25</th>\n",
       "      <th>2020-03-26</th>\n",
       "      <th>2020-03-27</th>\n",
       "      <th>...</th>\n",
       "      <th>2020-09-16</th>\n",
       "      <th>2020-09-17</th>\n",
       "      <th>2020-09-18</th>\n",
       "      <th>2020-09-19</th>\n",
       "      <th>2020-09-20</th>\n",
       "      <th>2020-09-21</th>\n",
       "      <th>2020-09-22</th>\n",
       "      <th>2020-09-23</th>\n",
       "      <th>2020-09-24</th>\n",
       "      <th>2020-09-25</th>\n",
       "    </tr>\n",
       "    <tr>\n",
       "      <th>county</th>\n",
       "      <th></th>\n",
       "      <th></th>\n",
       "      <th></th>\n",
       "      <th></th>\n",
       "      <th></th>\n",
       "      <th></th>\n",
       "      <th></th>\n",
       "      <th></th>\n",
       "      <th></th>\n",
       "      <th></th>\n",
       "      <th></th>\n",
       "      <th></th>\n",
       "      <th></th>\n",
       "      <th></th>\n",
       "      <th></th>\n",
       "      <th></th>\n",
       "      <th></th>\n",
       "      <th></th>\n",
       "      <th></th>\n",
       "      <th></th>\n",
       "      <th></th>\n",
       "    </tr>\n",
       "  </thead>\n",
       "  <tbody>\n",
       "    <tr>\n",
       "      <th>Alameda</th>\n",
       "      <td>29.0</td>\n",
       "      <td>7.0</td>\n",
       "      <td>6.0</td>\n",
       "      <td>20.0</td>\n",
       "      <td>10.0</td>\n",
       "      <td>16.0</td>\n",
       "      <td>8.0</td>\n",
       "      <td>38.0</td>\n",
       "      <td>38.0</td>\n",
       "      <td>13.0</td>\n",
       "      <td>...</td>\n",
       "      <td>78.0</td>\n",
       "      <td>137.0</td>\n",
       "      <td>76.0</td>\n",
       "      <td>127.0</td>\n",
       "      <td>76.0</td>\n",
       "      <td>76.0</td>\n",
       "      <td>106.0</td>\n",
       "      <td>111.0</td>\n",
       "      <td>120.0</td>\n",
       "      <td>73.0</td>\n",
       "    </tr>\n",
       "    <tr>\n",
       "      <th>Alpine</th>\n",
       "      <td>NaN</td>\n",
       "      <td>NaN</td>\n",
       "      <td>NaN</td>\n",
       "      <td>NaN</td>\n",
       "      <td>NaN</td>\n",
       "      <td>NaN</td>\n",
       "      <td>NaN</td>\n",
       "      <td>NaN</td>\n",
       "      <td>NaN</td>\n",
       "      <td>NaN</td>\n",
       "      <td>...</td>\n",
       "      <td>0.0</td>\n",
       "      <td>0.0</td>\n",
       "      <td>0.0</td>\n",
       "      <td>0.0</td>\n",
       "      <td>0.0</td>\n",
       "      <td>0.0</td>\n",
       "      <td>0.0</td>\n",
       "      <td>0.0</td>\n",
       "      <td>0.0</td>\n",
       "      <td>0.0</td>\n",
       "    </tr>\n",
       "    <tr>\n",
       "      <th>Amador</th>\n",
       "      <td>0.0</td>\n",
       "      <td>0.0</td>\n",
       "      <td>0.0</td>\n",
       "      <td>1.0</td>\n",
       "      <td>0.0</td>\n",
       "      <td>0.0</td>\n",
       "      <td>0.0</td>\n",
       "      <td>0.0</td>\n",
       "      <td>0.0</td>\n",
       "      <td>0.0</td>\n",
       "      <td>...</td>\n",
       "      <td>2.0</td>\n",
       "      <td>0.0</td>\n",
       "      <td>1.0</td>\n",
       "      <td>0.0</td>\n",
       "      <td>1.0</td>\n",
       "      <td>0.0</td>\n",
       "      <td>1.0</td>\n",
       "      <td>1.0</td>\n",
       "      <td>0.0</td>\n",
       "      <td>1.0</td>\n",
       "    </tr>\n",
       "    <tr>\n",
       "      <th>Butte</th>\n",
       "      <td>0.0</td>\n",
       "      <td>0.0</td>\n",
       "      <td>0.0</td>\n",
       "      <td>1.0</td>\n",
       "      <td>0.0</td>\n",
       "      <td>1.0</td>\n",
       "      <td>1.0</td>\n",
       "      <td>1.0</td>\n",
       "      <td>0.0</td>\n",
       "      <td>0.0</td>\n",
       "      <td>...</td>\n",
       "      <td>9.0</td>\n",
       "      <td>16.0</td>\n",
       "      <td>18.0</td>\n",
       "      <td>10.0</td>\n",
       "      <td>16.0</td>\n",
       "      <td>5.0</td>\n",
       "      <td>7.0</td>\n",
       "      <td>14.0</td>\n",
       "      <td>13.0</td>\n",
       "      <td>16.0</td>\n",
       "    </tr>\n",
       "    <tr>\n",
       "      <th>Calaveras</th>\n",
       "      <td>2.0</td>\n",
       "      <td>0.0</td>\n",
       "      <td>0.0</td>\n",
       "      <td>0.0</td>\n",
       "      <td>0.0</td>\n",
       "      <td>0.0</td>\n",
       "      <td>0.0</td>\n",
       "      <td>0.0</td>\n",
       "      <td>0.0</td>\n",
       "      <td>0.0</td>\n",
       "      <td>...</td>\n",
       "      <td>6.0</td>\n",
       "      <td>0.0</td>\n",
       "      <td>1.0</td>\n",
       "      <td>1.0</td>\n",
       "      <td>0.0</td>\n",
       "      <td>0.0</td>\n",
       "      <td>2.0</td>\n",
       "      <td>0.0</td>\n",
       "      <td>0.0</td>\n",
       "      <td>-1.0</td>\n",
       "    </tr>\n",
       "  </tbody>\n",
       "</table>\n",
       "<p>5 rows × 192 columns</p>\n",
       "</div>"
      ],
      "text/plain": [
       "date       2020-03-18  2020-03-19  2020-03-20  2020-03-21  2020-03-22  \\\n",
       "county                                                                  \n",
       "Alameda          29.0         7.0         6.0        20.0        10.0   \n",
       "Alpine            NaN         NaN         NaN         NaN         NaN   \n",
       "Amador            0.0         0.0         0.0         1.0         0.0   \n",
       "Butte             0.0         0.0         0.0         1.0         0.0   \n",
       "Calaveras         2.0         0.0         0.0         0.0         0.0   \n",
       "\n",
       "date       2020-03-23  2020-03-24  2020-03-25  2020-03-26  2020-03-27  ...  \\\n",
       "county                                                                 ...   \n",
       "Alameda          16.0         8.0        38.0        38.0        13.0  ...   \n",
       "Alpine            NaN         NaN         NaN         NaN         NaN  ...   \n",
       "Amador            0.0         0.0         0.0         0.0         0.0  ...   \n",
       "Butte             1.0         1.0         1.0         0.0         0.0  ...   \n",
       "Calaveras         0.0         0.0         0.0         0.0         0.0  ...   \n",
       "\n",
       "date       2020-09-16  2020-09-17  2020-09-18  2020-09-19  2020-09-20  \\\n",
       "county                                                                  \n",
       "Alameda          78.0       137.0        76.0       127.0        76.0   \n",
       "Alpine            0.0         0.0         0.0         0.0         0.0   \n",
       "Amador            2.0         0.0         1.0         0.0         1.0   \n",
       "Butte             9.0        16.0        18.0        10.0        16.0   \n",
       "Calaveras         6.0         0.0         1.0         1.0         0.0   \n",
       "\n",
       "date       2020-09-21  2020-09-22  2020-09-23  2020-09-24  2020-09-25  \n",
       "county                                                                 \n",
       "Alameda          76.0       106.0       111.0       120.0        73.0  \n",
       "Alpine            0.0         0.0         0.0         0.0         0.0  \n",
       "Amador            0.0         1.0         1.0         0.0         1.0  \n",
       "Butte             5.0         7.0        14.0        13.0        16.0  \n",
       "Calaveras         0.0         2.0         0.0         0.0        -1.0  \n",
       "\n",
       "[5 rows x 192 columns]"
      ]
     },
     "execution_count": 30,
     "metadata": {},
     "output_type": "execute_result"
    }
   ],
   "source": [
    "confirmed_by_county.head()"
   ]
  },
  {
   "cell_type": "code",
   "execution_count": 31,
   "metadata": {},
   "outputs": [],
   "source": [
    "# calculate rolling average of cases for 14-day windows\n",
    "# 14-day matches the California COVID-19 website\n",
    "confirmed_14day_mean=confirmed_by_county.rolling(14,axis=1,min_periods=1).mean()"
   ]
  },
  {
   "cell_type": "code",
   "execution_count": 32,
   "metadata": {},
   "outputs": [
    {
     "data": {
      "text/html": [
       "<div>\n",
       "<style scoped>\n",
       "    .dataframe tbody tr th:only-of-type {\n",
       "        vertical-align: middle;\n",
       "    }\n",
       "\n",
       "    .dataframe tbody tr th {\n",
       "        vertical-align: top;\n",
       "    }\n",
       "\n",
       "    .dataframe thead th {\n",
       "        text-align: right;\n",
       "    }\n",
       "</style>\n",
       "<table border=\"1\" class=\"dataframe\">\n",
       "  <thead>\n",
       "    <tr style=\"text-align: right;\">\n",
       "      <th>date</th>\n",
       "      <th>2020-03-18</th>\n",
       "      <th>2020-03-19</th>\n",
       "      <th>2020-03-20</th>\n",
       "      <th>2020-03-21</th>\n",
       "      <th>2020-03-22</th>\n",
       "      <th>2020-03-23</th>\n",
       "      <th>2020-03-24</th>\n",
       "      <th>2020-03-25</th>\n",
       "      <th>2020-03-26</th>\n",
       "      <th>2020-03-27</th>\n",
       "      <th>...</th>\n",
       "      <th>2020-09-16</th>\n",
       "      <th>2020-09-17</th>\n",
       "      <th>2020-09-18</th>\n",
       "      <th>2020-09-19</th>\n",
       "      <th>2020-09-20</th>\n",
       "      <th>2020-09-21</th>\n",
       "      <th>2020-09-22</th>\n",
       "      <th>2020-09-23</th>\n",
       "      <th>2020-09-24</th>\n",
       "      <th>2020-09-25</th>\n",
       "    </tr>\n",
       "    <tr>\n",
       "      <th>county</th>\n",
       "      <th></th>\n",
       "      <th></th>\n",
       "      <th></th>\n",
       "      <th></th>\n",
       "      <th></th>\n",
       "      <th></th>\n",
       "      <th></th>\n",
       "      <th></th>\n",
       "      <th></th>\n",
       "      <th></th>\n",
       "      <th></th>\n",
       "      <th></th>\n",
       "      <th></th>\n",
       "      <th></th>\n",
       "      <th></th>\n",
       "      <th></th>\n",
       "      <th></th>\n",
       "      <th></th>\n",
       "      <th></th>\n",
       "      <th></th>\n",
       "      <th></th>\n",
       "    </tr>\n",
       "  </thead>\n",
       "  <tbody>\n",
       "    <tr>\n",
       "      <th>Alameda</th>\n",
       "      <td>29.0</td>\n",
       "      <td>18.0</td>\n",
       "      <td>14.000000</td>\n",
       "      <td>15.50</td>\n",
       "      <td>14.4</td>\n",
       "      <td>14.666667</td>\n",
       "      <td>13.714286</td>\n",
       "      <td>16.750</td>\n",
       "      <td>19.111111</td>\n",
       "      <td>18.5</td>\n",
       "      <td>...</td>\n",
       "      <td>106.214286</td>\n",
       "      <td>104.214286</td>\n",
       "      <td>98.500000</td>\n",
       "      <td>98.285714</td>\n",
       "      <td>99.714286</td>\n",
       "      <td>93.785714</td>\n",
       "      <td>93.857143</td>\n",
       "      <td>94.214286</td>\n",
       "      <td>94.928571</td>\n",
       "      <td>91.857143</td>\n",
       "    </tr>\n",
       "    <tr>\n",
       "      <th>Alpine</th>\n",
       "      <td>NaN</td>\n",
       "      <td>NaN</td>\n",
       "      <td>NaN</td>\n",
       "      <td>NaN</td>\n",
       "      <td>NaN</td>\n",
       "      <td>NaN</td>\n",
       "      <td>NaN</td>\n",
       "      <td>NaN</td>\n",
       "      <td>NaN</td>\n",
       "      <td>NaN</td>\n",
       "      <td>...</td>\n",
       "      <td>0.000000</td>\n",
       "      <td>0.000000</td>\n",
       "      <td>0.000000</td>\n",
       "      <td>0.000000</td>\n",
       "      <td>0.000000</td>\n",
       "      <td>0.000000</td>\n",
       "      <td>0.000000</td>\n",
       "      <td>0.000000</td>\n",
       "      <td>0.000000</td>\n",
       "      <td>0.000000</td>\n",
       "    </tr>\n",
       "    <tr>\n",
       "      <th>Amador</th>\n",
       "      <td>0.0</td>\n",
       "      <td>0.0</td>\n",
       "      <td>0.000000</td>\n",
       "      <td>0.25</td>\n",
       "      <td>0.2</td>\n",
       "      <td>0.166667</td>\n",
       "      <td>0.142857</td>\n",
       "      <td>0.125</td>\n",
       "      <td>0.111111</td>\n",
       "      <td>0.1</td>\n",
       "      <td>...</td>\n",
       "      <td>2.785714</td>\n",
       "      <td>0.714286</td>\n",
       "      <td>0.785714</td>\n",
       "      <td>0.785714</td>\n",
       "      <td>0.785714</td>\n",
       "      <td>0.714286</td>\n",
       "      <td>0.785714</td>\n",
       "      <td>0.857143</td>\n",
       "      <td>0.785714</td>\n",
       "      <td>0.857143</td>\n",
       "    </tr>\n",
       "    <tr>\n",
       "      <th>Butte</th>\n",
       "      <td>0.0</td>\n",
       "      <td>0.0</td>\n",
       "      <td>0.000000</td>\n",
       "      <td>0.25</td>\n",
       "      <td>0.2</td>\n",
       "      <td>0.333333</td>\n",
       "      <td>0.428571</td>\n",
       "      <td>0.500</td>\n",
       "      <td>0.444444</td>\n",
       "      <td>0.4</td>\n",
       "      <td>...</td>\n",
       "      <td>33.071429</td>\n",
       "      <td>31.857143</td>\n",
       "      <td>29.500000</td>\n",
       "      <td>24.428571</td>\n",
       "      <td>22.714286</td>\n",
       "      <td>22.785714</td>\n",
       "      <td>23.071429</td>\n",
       "      <td>16.357143</td>\n",
       "      <td>15.214286</td>\n",
       "      <td>15.285714</td>\n",
       "    </tr>\n",
       "    <tr>\n",
       "      <th>Calaveras</th>\n",
       "      <td>2.0</td>\n",
       "      <td>1.0</td>\n",
       "      <td>0.666667</td>\n",
       "      <td>0.50</td>\n",
       "      <td>0.4</td>\n",
       "      <td>0.333333</td>\n",
       "      <td>0.285714</td>\n",
       "      <td>0.250</td>\n",
       "      <td>0.222222</td>\n",
       "      <td>0.2</td>\n",
       "      <td>...</td>\n",
       "      <td>1.357143</td>\n",
       "      <td>1.142857</td>\n",
       "      <td>1.285714</td>\n",
       "      <td>1.357143</td>\n",
       "      <td>1.500000</td>\n",
       "      <td>1.571429</td>\n",
       "      <td>1.785714</td>\n",
       "      <td>1.142857</td>\n",
       "      <td>1.000000</td>\n",
       "      <td>1.071429</td>\n",
       "    </tr>\n",
       "  </tbody>\n",
       "</table>\n",
       "<p>5 rows × 192 columns</p>\n",
       "</div>"
      ],
      "text/plain": [
       "date       2020-03-18  2020-03-19  2020-03-20  2020-03-21  2020-03-22  \\\n",
       "county                                                                  \n",
       "Alameda          29.0        18.0   14.000000       15.50        14.4   \n",
       "Alpine            NaN         NaN         NaN         NaN         NaN   \n",
       "Amador            0.0         0.0    0.000000        0.25         0.2   \n",
       "Butte             0.0         0.0    0.000000        0.25         0.2   \n",
       "Calaveras         2.0         1.0    0.666667        0.50         0.4   \n",
       "\n",
       "date       2020-03-23  2020-03-24  2020-03-25  2020-03-26  2020-03-27  ...  \\\n",
       "county                                                                 ...   \n",
       "Alameda     14.666667   13.714286      16.750   19.111111        18.5  ...   \n",
       "Alpine            NaN         NaN         NaN         NaN         NaN  ...   \n",
       "Amador       0.166667    0.142857       0.125    0.111111         0.1  ...   \n",
       "Butte        0.333333    0.428571       0.500    0.444444         0.4  ...   \n",
       "Calaveras    0.333333    0.285714       0.250    0.222222         0.2  ...   \n",
       "\n",
       "date       2020-09-16  2020-09-17  2020-09-18  2020-09-19  2020-09-20  \\\n",
       "county                                                                  \n",
       "Alameda    106.214286  104.214286   98.500000   98.285714   99.714286   \n",
       "Alpine       0.000000    0.000000    0.000000    0.000000    0.000000   \n",
       "Amador       2.785714    0.714286    0.785714    0.785714    0.785714   \n",
       "Butte       33.071429   31.857143   29.500000   24.428571   22.714286   \n",
       "Calaveras    1.357143    1.142857    1.285714    1.357143    1.500000   \n",
       "\n",
       "date       2020-09-21  2020-09-22  2020-09-23  2020-09-24  2020-09-25  \n",
       "county                                                                 \n",
       "Alameda     93.785714   93.857143   94.214286   94.928571   91.857143  \n",
       "Alpine       0.000000    0.000000    0.000000    0.000000    0.000000  \n",
       "Amador       0.714286    0.785714    0.857143    0.785714    0.857143  \n",
       "Butte       22.785714   23.071429   16.357143   15.214286   15.285714  \n",
       "Calaveras    1.571429    1.785714    1.142857    1.000000    1.071429  \n",
       "\n",
       "[5 rows x 192 columns]"
      ]
     },
     "execution_count": 32,
     "metadata": {},
     "output_type": "execute_result"
    }
   ],
   "source": [
    "# show the rolling cases\n",
    "confirmed_14day_mean.head()"
   ]
  },
  {
   "cell_type": "code",
   "execution_count": 33,
   "metadata": {},
   "outputs": [],
   "source": [
    "# select counties whose number of cases to be plotted\n",
    "selected_counties=[\"Alameda\",\"San Francisco\", \"San Mateo\", \"Contra Costa\", \"Santa Clara\"]"
   ]
  },
  {
   "cell_type": "code",
   "execution_count": 34,
   "metadata": {},
   "outputs": [],
   "source": [
    "counties_selected=confirmed_14day_mean.loc[selected_counties]"
   ]
  },
  {
   "cell_type": "code",
   "execution_count": 35,
   "metadata": {},
   "outputs": [],
   "source": [
    "# now get data for these counties\n",
    "counties_selected=confirmed_14day_mean.loc[selected_counties]"
   ]
  },
  {
   "cell_type": "code",
   "execution_count": 36,
   "metadata": {},
   "outputs": [
    {
     "data": {
      "text/html": [
       "<div>\n",
       "<style scoped>\n",
       "    .dataframe tbody tr th:only-of-type {\n",
       "        vertical-align: middle;\n",
       "    }\n",
       "\n",
       "    .dataframe tbody tr th {\n",
       "        vertical-align: top;\n",
       "    }\n",
       "\n",
       "    .dataframe thead th {\n",
       "        text-align: right;\n",
       "    }\n",
       "</style>\n",
       "<table border=\"1\" class=\"dataframe\">\n",
       "  <thead>\n",
       "    <tr style=\"text-align: right;\">\n",
       "      <th>date</th>\n",
       "      <th>2020-03-18</th>\n",
       "      <th>2020-03-19</th>\n",
       "      <th>2020-03-20</th>\n",
       "      <th>2020-03-21</th>\n",
       "      <th>2020-03-22</th>\n",
       "      <th>2020-03-23</th>\n",
       "      <th>2020-03-24</th>\n",
       "      <th>2020-03-25</th>\n",
       "      <th>2020-03-26</th>\n",
       "      <th>2020-03-27</th>\n",
       "      <th>...</th>\n",
       "      <th>2020-09-16</th>\n",
       "      <th>2020-09-17</th>\n",
       "      <th>2020-09-18</th>\n",
       "      <th>2020-09-19</th>\n",
       "      <th>2020-09-20</th>\n",
       "      <th>2020-09-21</th>\n",
       "      <th>2020-09-22</th>\n",
       "      <th>2020-09-23</th>\n",
       "      <th>2020-09-24</th>\n",
       "      <th>2020-09-25</th>\n",
       "    </tr>\n",
       "    <tr>\n",
       "      <th>county</th>\n",
       "      <th></th>\n",
       "      <th></th>\n",
       "      <th></th>\n",
       "      <th></th>\n",
       "      <th></th>\n",
       "      <th></th>\n",
       "      <th></th>\n",
       "      <th></th>\n",
       "      <th></th>\n",
       "      <th></th>\n",
       "      <th></th>\n",
       "      <th></th>\n",
       "      <th></th>\n",
       "      <th></th>\n",
       "      <th></th>\n",
       "      <th></th>\n",
       "      <th></th>\n",
       "      <th></th>\n",
       "      <th></th>\n",
       "      <th></th>\n",
       "      <th></th>\n",
       "    </tr>\n",
       "  </thead>\n",
       "  <tbody>\n",
       "    <tr>\n",
       "      <th>Alameda</th>\n",
       "      <td>29.0</td>\n",
       "      <td>18.0</td>\n",
       "      <td>14.000000</td>\n",
       "      <td>15.50</td>\n",
       "      <td>14.4</td>\n",
       "      <td>14.666667</td>\n",
       "      <td>13.714286</td>\n",
       "      <td>16.750</td>\n",
       "      <td>19.111111</td>\n",
       "      <td>18.5</td>\n",
       "      <td>...</td>\n",
       "      <td>106.214286</td>\n",
       "      <td>104.214286</td>\n",
       "      <td>98.500000</td>\n",
       "      <td>98.285714</td>\n",
       "      <td>99.714286</td>\n",
       "      <td>93.785714</td>\n",
       "      <td>93.857143</td>\n",
       "      <td>94.214286</td>\n",
       "      <td>94.928571</td>\n",
       "      <td>91.857143</td>\n",
       "    </tr>\n",
       "    <tr>\n",
       "      <th>San Francisco</th>\n",
       "      <td>65.0</td>\n",
       "      <td>40.0</td>\n",
       "      <td>29.000000</td>\n",
       "      <td>26.50</td>\n",
       "      <td>26.8</td>\n",
       "      <td>25.333333</td>\n",
       "      <td>25.857143</td>\n",
       "      <td>26.625</td>\n",
       "      <td>29.000000</td>\n",
       "      <td>28.5</td>\n",
       "      <td>...</td>\n",
       "      <td>65.357143</td>\n",
       "      <td>66.285714</td>\n",
       "      <td>67.857143</td>\n",
       "      <td>66.357143</td>\n",
       "      <td>66.428571</td>\n",
       "      <td>66.428571</td>\n",
       "      <td>76.571429</td>\n",
       "      <td>66.428571</td>\n",
       "      <td>65.000000</td>\n",
       "      <td>66.642857</td>\n",
       "    </tr>\n",
       "    <tr>\n",
       "      <th>San Mateo</th>\n",
       "      <td>57.0</td>\n",
       "      <td>29.0</td>\n",
       "      <td>23.666667</td>\n",
       "      <td>19.50</td>\n",
       "      <td>16.4</td>\n",
       "      <td>14.666667</td>\n",
       "      <td>14.285714</td>\n",
       "      <td>13.875</td>\n",
       "      <td>13.555556</td>\n",
       "      <td>21.3</td>\n",
       "      <td>...</td>\n",
       "      <td>56.857143</td>\n",
       "      <td>55.214286</td>\n",
       "      <td>56.214286</td>\n",
       "      <td>57.571429</td>\n",
       "      <td>57.928571</td>\n",
       "      <td>59.285714</td>\n",
       "      <td>59.357143</td>\n",
       "      <td>62.357143</td>\n",
       "      <td>60.500000</td>\n",
       "      <td>59.714286</td>\n",
       "    </tr>\n",
       "    <tr>\n",
       "      <th>Contra Costa</th>\n",
       "      <td>44.0</td>\n",
       "      <td>23.0</td>\n",
       "      <td>17.333333</td>\n",
       "      <td>15.50</td>\n",
       "      <td>15.8</td>\n",
       "      <td>15.166667</td>\n",
       "      <td>15.428571</td>\n",
       "      <td>16.375</td>\n",
       "      <td>16.333333</td>\n",
       "      <td>16.1</td>\n",
       "      <td>...</td>\n",
       "      <td>98.285714</td>\n",
       "      <td>97.857143</td>\n",
       "      <td>93.714286</td>\n",
       "      <td>94.785714</td>\n",
       "      <td>96.571429</td>\n",
       "      <td>97.928571</td>\n",
       "      <td>96.428571</td>\n",
       "      <td>96.500000</td>\n",
       "      <td>95.928571</td>\n",
       "      <td>100.000000</td>\n",
       "    </tr>\n",
       "    <tr>\n",
       "      <th>Santa Clara</th>\n",
       "      <td>151.0</td>\n",
       "      <td>91.5</td>\n",
       "      <td>82.000000</td>\n",
       "      <td>67.25</td>\n",
       "      <td>56.8</td>\n",
       "      <td>56.000000</td>\n",
       "      <td>55.571429</td>\n",
       "      <td>56.500</td>\n",
       "      <td>54.111111</td>\n",
       "      <td>55.7</td>\n",
       "      <td>...</td>\n",
       "      <td>143.642857</td>\n",
       "      <td>139.000000</td>\n",
       "      <td>141.714286</td>\n",
       "      <td>132.785714</td>\n",
       "      <td>131.071429</td>\n",
       "      <td>131.142857</td>\n",
       "      <td>133.500000</td>\n",
       "      <td>129.714286</td>\n",
       "      <td>129.928571</td>\n",
       "      <td>124.785714</td>\n",
       "    </tr>\n",
       "  </tbody>\n",
       "</table>\n",
       "<p>5 rows × 192 columns</p>\n",
       "</div>"
      ],
      "text/plain": [
       "date           2020-03-18  2020-03-19  2020-03-20  2020-03-21  2020-03-22  \\\n",
       "county                                                                      \n",
       "Alameda              29.0        18.0   14.000000       15.50        14.4   \n",
       "San Francisco        65.0        40.0   29.000000       26.50        26.8   \n",
       "San Mateo            57.0        29.0   23.666667       19.50        16.4   \n",
       "Contra Costa         44.0        23.0   17.333333       15.50        15.8   \n",
       "Santa Clara         151.0        91.5   82.000000       67.25        56.8   \n",
       "\n",
       "date           2020-03-23  2020-03-24  2020-03-25  2020-03-26  2020-03-27  \\\n",
       "county                                                                      \n",
       "Alameda         14.666667   13.714286      16.750   19.111111        18.5   \n",
       "San Francisco   25.333333   25.857143      26.625   29.000000        28.5   \n",
       "San Mateo       14.666667   14.285714      13.875   13.555556        21.3   \n",
       "Contra Costa    15.166667   15.428571      16.375   16.333333        16.1   \n",
       "Santa Clara     56.000000   55.571429      56.500   54.111111        55.7   \n",
       "\n",
       "date           ...  2020-09-16  2020-09-17  2020-09-18  2020-09-19  \\\n",
       "county         ...                                                   \n",
       "Alameda        ...  106.214286  104.214286   98.500000   98.285714   \n",
       "San Francisco  ...   65.357143   66.285714   67.857143   66.357143   \n",
       "San Mateo      ...   56.857143   55.214286   56.214286   57.571429   \n",
       "Contra Costa   ...   98.285714   97.857143   93.714286   94.785714   \n",
       "Santa Clara    ...  143.642857  139.000000  141.714286  132.785714   \n",
       "\n",
       "date           2020-09-20  2020-09-21  2020-09-22  2020-09-23  2020-09-24  \\\n",
       "county                                                                      \n",
       "Alameda         99.714286   93.785714   93.857143   94.214286   94.928571   \n",
       "San Francisco   66.428571   66.428571   76.571429   66.428571   65.000000   \n",
       "San Mateo       57.928571   59.285714   59.357143   62.357143   60.500000   \n",
       "Contra Costa    96.571429   97.928571   96.428571   96.500000   95.928571   \n",
       "Santa Clara    131.071429  131.142857  133.500000  129.714286  129.928571   \n",
       "\n",
       "date           2020-09-25  \n",
       "county                     \n",
       "Alameda         91.857143  \n",
       "San Francisco   66.642857  \n",
       "San Mateo       59.714286  \n",
       "Contra Costa   100.000000  \n",
       "Santa Clara    124.785714  \n",
       "\n",
       "[5 rows x 192 columns]"
      ]
     },
     "execution_count": 36,
     "metadata": {},
     "output_type": "execute_result"
    }
   ],
   "source": [
    "counties_selected"
   ]
  },
  {
   "cell_type": "code",
   "execution_count": 37,
   "metadata": {},
   "outputs": [
    {
     "data": {
      "text/plain": [
       "<AxesSubplot:xlabel='date'>"
      ]
     },
     "execution_count": 37,
     "metadata": {},
     "output_type": "execute_result"
    },
    {
     "data": {
      "image/png": "[encoded data removed]",
      "text/plain": [
       "<Figure size 432x288 with 1 Axes>"
      ]
     },
     "metadata": {
      "needs_background": "light"
     },
     "output_type": "display_data"
    }
   ],
   "source": [
    "# plot confirmed cases vs time\n",
    "counties_selected.T.plot()"
   ]
  },
  {
   "cell_type": "code",
   "execution_count": 38,
   "metadata": {},
   "outputs": [],
   "source": [
    "# grid is too small, take the last 28 days of mean, rolling 14 days\n",
    "dates_selected=counties_selected.iloc[:, -14:]"
   ]
  },
  {
   "cell_type": "code",
   "execution_count": 39,
   "metadata": {},
   "outputs": [
    {
     "data": {
      "text/plain": [
       "(5, 14)"
      ]
     },
     "execution_count": 39,
     "metadata": {},
     "output_type": "execute_result"
    }
   ],
   "source": [
    "dates_selected.shape"
   ]
  },
  {
   "cell_type": "code",
   "execution_count": 40,
   "metadata": {},
   "outputs": [
    {
     "data": {
      "text/plain": [
       "<AxesSubplot:xlabel='date'>"
      ]
     },
     "execution_count": 40,
     "metadata": {},
     "output_type": "execute_result"
    },
    {
     "data": {
      "image/png": "[encoded data removed]",
      "text/plain": [
       "<Figure size 432x288 with 1 Axes>"
      ]
     },
     "metadata": {
      "needs_background": "light"
     },
     "output_type": "display_data"
    }
   ],
   "source": [
    "dates_selected.T.plot()"
   ]
  },
  {
   "cell_type": "markdown",
   "metadata": {},
   "source": [
    "# covid29_ecdc_solutions has merging data!!!"
   ]
  },
  {
   "cell_type": "markdown",
   "metadata": {},
   "source": [
    "## Next is to merge age, sex or ethnicity"
   ]
  },
  {
   "cell_type": "markdown",
   "metadata": {},
   "source": [
    "### Using numpy to get some simple stats"
   ]
  },
  {
   "cell_type": "markdown",
   "metadata": {},
   "source": [
    "### can use the dataframe methods, but numpy is faster on larger data"
   ]
  },
  {
   "cell_type": "code",
   "execution_count": 41,
   "metadata": {},
   "outputs": [],
   "source": [
    "import numpy as np"
   ]
  },
  {
   "cell_type": "code",
   "execution_count": 42,
   "metadata": {},
   "outputs": [
    {
     "data": {
      "text/plain": [
       "4493"
      ]
     },
     "execution_count": 42,
     "metadata": {},
     "output_type": "execute_result"
    }
   ],
   "source": [
    "np.max(df.newcountconfirmed)"
   ]
  },
  {
   "cell_type": "code",
   "execution_count": 43,
   "metadata": {},
   "outputs": [
    {
     "data": {
      "text/plain": [
       "265713.0"
      ]
     },
     "execution_count": 43,
     "metadata": {},
     "output_type": "execute_result"
    }
   ],
   "source": [
    "np.max(df.totalcountconfirmed)"
   ]
  },
  {
   "cell_type": "code",
   "execution_count": 44,
   "metadata": {},
   "outputs": [
    {
     "data": {
      "text/plain": [
       "265713.0"
      ]
     },
     "execution_count": 44,
     "metadata": {},
     "output_type": "execute_result"
    }
   ],
   "source": [
    "df.totalcountconfirmed.max()"
   ]
  },
  {
   "cell_type": "code",
   "execution_count": 45,
   "metadata": {},
   "outputs": [
    {
     "data": {
      "text/plain": [
       "69.62381160052333"
      ]
     },
     "execution_count": 45,
     "metadata": {},
     "output_type": "execute_result"
    }
   ],
   "source": [
    "np.mean(df.newcountconfirmed)"
   ]
  },
  {
   "cell_type": "code",
   "execution_count": 46,
   "metadata": {},
   "outputs": [
    {
     "data": {
      "text/plain": [
       "237.19728016247603"
      ]
     },
     "execution_count": 46,
     "metadata": {},
     "output_type": "execute_result"
    }
   ],
   "source": [
    "np.std(df.newcountconfirmed)"
   ]
  },
  {
   "cell_type": "code",
   "execution_count": 47,
   "metadata": {},
   "outputs": [
    {
     "data": {
      "text/plain": [
       "237.20762524742602"
      ]
     },
     "execution_count": 47,
     "metadata": {},
     "output_type": "execute_result"
    }
   ],
   "source": [
    "df.newcountconfirmed.std()"
   ]
  },
  {
   "cell_type": "code",
   "execution_count": 48,
   "metadata": {},
   "outputs": [],
   "source": [
    "# you can take a list of 30 elements and make it 6 rows by 5 columns\n",
    "# new_df=np.array(somelist).reshape(6, 5)\n",
    "# essentially you'll end up with 6 lists with 5 values in your dataframe\n",
    "# the opposite would be ravel rather() than reshape(6,5)"
   ]
  },
  {
   "cell_type": "markdown",
   "metadata": {},
   "source": [
    "### Using matplotlib"
   ]
  },
  {
   "cell_type": "code",
   "execution_count": 49,
   "metadata": {},
   "outputs": [],
   "source": [
    "import matplotlib.pyplot as plt\n",
    "%matplotlib inline\n",
    "import seaborn as sns"
   ]
  },
  {
   "cell_type": "code",
   "execution_count": 50,
   "metadata": {},
   "outputs": [
    {
     "data": {
      "text/html": [
       "<div>\n",
       "<style scoped>\n",
       "    .dataframe tbody tr th:only-of-type {\n",
       "        vertical-align: middle;\n",
       "    }\n",
       "\n",
       "    .dataframe tbody tr th {\n",
       "        vertical-align: top;\n",
       "    }\n",
       "\n",
       "    .dataframe thead th {\n",
       "        text-align: right;\n",
       "    }\n",
       "</style>\n",
       "<table border=\"1\" class=\"dataframe\">\n",
       "  <thead>\n",
       "    <tr style=\"text-align: right;\">\n",
       "      <th></th>\n",
       "      <th>county</th>\n",
       "      <th>totalcountconfirmed</th>\n",
       "      <th>totalcountdeaths</th>\n",
       "      <th>newcountconfirmed</th>\n",
       "      <th>newcountdeaths</th>\n",
       "      <th>date</th>\n",
       "    </tr>\n",
       "  </thead>\n",
       "  <tbody>\n",
       "    <tr>\n",
       "      <th>0</th>\n",
       "      <td>Santa Clara</td>\n",
       "      <td>151.0</td>\n",
       "      <td>6.0</td>\n",
       "      <td>151</td>\n",
       "      <td>6</td>\n",
       "      <td>2020-03-18</td>\n",
       "    </tr>\n",
       "    <tr>\n",
       "      <th>1</th>\n",
       "      <td>Santa Clara</td>\n",
       "      <td>183.0</td>\n",
       "      <td>8.0</td>\n",
       "      <td>32</td>\n",
       "      <td>2</td>\n",
       "      <td>2020-03-19</td>\n",
       "    </tr>\n",
       "    <tr>\n",
       "      <th>2</th>\n",
       "      <td>Santa Clara</td>\n",
       "      <td>246.0</td>\n",
       "      <td>8.0</td>\n",
       "      <td>63</td>\n",
       "      <td>0</td>\n",
       "      <td>2020-03-20</td>\n",
       "    </tr>\n",
       "    <tr>\n",
       "      <th>3</th>\n",
       "      <td>Santa Clara</td>\n",
       "      <td>269.0</td>\n",
       "      <td>10.0</td>\n",
       "      <td>23</td>\n",
       "      <td>2</td>\n",
       "      <td>2020-03-21</td>\n",
       "    </tr>\n",
       "    <tr>\n",
       "      <th>4</th>\n",
       "      <td>Santa Clara</td>\n",
       "      <td>284.0</td>\n",
       "      <td>13.0</td>\n",
       "      <td>15</td>\n",
       "      <td>3</td>\n",
       "      <td>2020-03-22</td>\n",
       "    </tr>\n",
       "  </tbody>\n",
       "</table>\n",
       "</div>"
      ],
      "text/plain": [
       "        county  totalcountconfirmed  totalcountdeaths  newcountconfirmed  \\\n",
       "0  Santa Clara                151.0               6.0                151   \n",
       "1  Santa Clara                183.0               8.0                 32   \n",
       "2  Santa Clara                246.0               8.0                 63   \n",
       "3  Santa Clara                269.0              10.0                 23   \n",
       "4  Santa Clara                284.0              13.0                 15   \n",
       "\n",
       "   newcountdeaths       date  \n",
       "0               6 2020-03-18  \n",
       "1               2 2020-03-19  \n",
       "2               0 2020-03-20  \n",
       "3               2 2020-03-21  \n",
       "4               3 2020-03-22  "
      ]
     },
     "execution_count": 50,
     "metadata": {},
     "output_type": "execute_result"
    }
   ],
   "source": [
    "df.head()"
   ]
  },
  {
   "cell_type": "code",
   "execution_count": 51,
   "metadata": {},
   "outputs": [],
   "source": [
    "df_selected_counties=df.loc[df['county'].isin(selected_counties)]"
   ]
  },
  {
   "cell_type": "code",
   "execution_count": 52,
   "metadata": {},
   "outputs": [
    {
     "name": "stderr",
     "output_type": "stream",
     "text": [
      "<ipython-input-52-177b6f6cde40>:1: FutureWarning: Treating datetime data as categorical rather than numeric in `.describe` is deprecated and will be removed in a future version of pandas. Specify `datetime_is_numeric=True` to silence this warning and adopt the future behavior now.\n",
      "  df_selected_counties.describe(include='all')\n"
     ]
    },
    {
     "data": {
      "text/html": [
       "<div>\n",
       "<style scoped>\n",
       "    .dataframe tbody tr th:only-of-type {\n",
       "        vertical-align: middle;\n",
       "    }\n",
       "\n",
       "    .dataframe tbody tr th {\n",
       "        vertical-align: top;\n",
       "    }\n",
       "\n",
       "    .dataframe thead th {\n",
       "        text-align: right;\n",
       "    }\n",
       "</style>\n",
       "<table border=\"1\" class=\"dataframe\">\n",
       "  <thead>\n",
       "    <tr style=\"text-align: right;\">\n",
       "      <th></th>\n",
       "      <th>county</th>\n",
       "      <th>totalcountconfirmed</th>\n",
       "      <th>totalcountdeaths</th>\n",
       "      <th>newcountconfirmed</th>\n",
       "      <th>newcountdeaths</th>\n",
       "      <th>date</th>\n",
       "    </tr>\n",
       "  </thead>\n",
       "  <tbody>\n",
       "    <tr>\n",
       "      <th>count</th>\n",
       "      <td>960</td>\n",
       "      <td>960.000000</td>\n",
       "      <td>960.000000</td>\n",
       "      <td>960.000000</td>\n",
       "      <td>960.000000</td>\n",
       "      <td>960</td>\n",
       "    </tr>\n",
       "    <tr>\n",
       "      <th>unique</th>\n",
       "      <td>5</td>\n",
       "      <td>NaN</td>\n",
       "      <td>NaN</td>\n",
       "      <td>NaN</td>\n",
       "      <td>NaN</td>\n",
       "      <td>192</td>\n",
       "    </tr>\n",
       "    <tr>\n",
       "      <th>top</th>\n",
       "      <td>Alameda</td>\n",
       "      <td>NaN</td>\n",
       "      <td>NaN</td>\n",
       "      <td>NaN</td>\n",
       "      <td>NaN</td>\n",
       "      <td>2020-04-13 00:00:00</td>\n",
       "    </tr>\n",
       "    <tr>\n",
       "      <th>freq</th>\n",
       "      <td>192</td>\n",
       "      <td>NaN</td>\n",
       "      <td>NaN</td>\n",
       "      <td>NaN</td>\n",
       "      <td>NaN</td>\n",
       "      <td>5</td>\n",
       "    </tr>\n",
       "    <tr>\n",
       "      <th>first</th>\n",
       "      <td>NaN</td>\n",
       "      <td>NaN</td>\n",
       "      <td>NaN</td>\n",
       "      <td>NaN</td>\n",
       "      <td>NaN</td>\n",
       "      <td>2020-03-18 00:00:00</td>\n",
       "    </tr>\n",
       "    <tr>\n",
       "      <th>last</th>\n",
       "      <td>NaN</td>\n",
       "      <td>NaN</td>\n",
       "      <td>NaN</td>\n",
       "      <td>NaN</td>\n",
       "      <td>NaN</td>\n",
       "      <td>2020-09-25 00:00:00</td>\n",
       "    </tr>\n",
       "    <tr>\n",
       "      <th>mean</th>\n",
       "      <td>NaN</td>\n",
       "      <td>5629.732292</td>\n",
       "      <td>102.921875</td>\n",
       "      <td>81.913542</td>\n",
       "      <td>1.212500</td>\n",
       "      <td>NaN</td>\n",
       "    </tr>\n",
       "    <tr>\n",
       "      <th>std</th>\n",
       "      <td>NaN</td>\n",
       "      <td>5448.994371</td>\n",
       "      <td>78.110875</td>\n",
       "      <td>82.232775</td>\n",
       "      <td>2.186948</td>\n",
       "      <td>NaN</td>\n",
       "    </tr>\n",
       "    <tr>\n",
       "      <th>min</th>\n",
       "      <td>NaN</td>\n",
       "      <td>29.000000</td>\n",
       "      <td>0.000000</td>\n",
       "      <td>-8.000000</td>\n",
       "      <td>-2.000000</td>\n",
       "      <td>NaN</td>\n",
       "    </tr>\n",
       "    <tr>\n",
       "      <th>25%</th>\n",
       "      <td>NaN</td>\n",
       "      <td>1497.750000</td>\n",
       "      <td>41.000000</td>\n",
       "      <td>26.000000</td>\n",
       "      <td>0.000000</td>\n",
       "      <td>NaN</td>\n",
       "    </tr>\n",
       "    <tr>\n",
       "      <th>50%</th>\n",
       "      <td>NaN</td>\n",
       "      <td>3344.000000</td>\n",
       "      <td>90.000000</td>\n",
       "      <td>54.000000</td>\n",
       "      <td>0.000000</td>\n",
       "      <td>NaN</td>\n",
       "    </tr>\n",
       "    <tr>\n",
       "      <th>75%</th>\n",
       "      <td>NaN</td>\n",
       "      <td>8464.500000</td>\n",
       "      <td>144.000000</td>\n",
       "      <td>112.000000</td>\n",
       "      <td>2.000000</td>\n",
       "      <td>NaN</td>\n",
       "    </tr>\n",
       "    <tr>\n",
       "      <th>max</th>\n",
       "      <td>NaN</td>\n",
       "      <td>20911.000000</td>\n",
       "      <td>404.000000</td>\n",
       "      <td>737.000000</td>\n",
       "      <td>24.000000</td>\n",
       "      <td>NaN</td>\n",
       "    </tr>\n",
       "  </tbody>\n",
       "</table>\n",
       "</div>"
      ],
      "text/plain": [
       "         county  totalcountconfirmed  totalcountdeaths  newcountconfirmed  \\\n",
       "count       960           960.000000        960.000000         960.000000   \n",
       "unique        5                  NaN               NaN                NaN   \n",
       "top     Alameda                  NaN               NaN                NaN   \n",
       "freq        192                  NaN               NaN                NaN   \n",
       "first       NaN                  NaN               NaN                NaN   \n",
       "last        NaN                  NaN               NaN                NaN   \n",
       "mean        NaN          5629.732292        102.921875          81.913542   \n",
       "std         NaN          5448.994371         78.110875          82.232775   \n",
       "min         NaN            29.000000          0.000000          -8.000000   \n",
       "25%         NaN          1497.750000         41.000000          26.000000   \n",
       "50%         NaN          3344.000000         90.000000          54.000000   \n",
       "75%         NaN          8464.500000        144.000000         112.000000   \n",
       "max         NaN         20911.000000        404.000000         737.000000   \n",
       "\n",
       "        newcountdeaths                 date  \n",
       "count       960.000000                  960  \n",
       "unique             NaN                  192  \n",
       "top                NaN  2020-04-13 00:00:00  \n",
       "freq               NaN                    5  \n",
       "first              NaN  2020-03-18 00:00:00  \n",
       "last               NaN  2020-09-25 00:00:00  \n",
       "mean          1.212500                  NaN  \n",
       "std           2.186948                  NaN  \n",
       "min          -2.000000                  NaN  \n",
       "25%           0.000000                  NaN  \n",
       "50%           0.000000                  NaN  \n",
       "75%           2.000000                  NaN  \n",
       "max          24.000000                  NaN  "
      ]
     },
     "execution_count": 52,
     "metadata": {},
     "output_type": "execute_result"
    }
   ],
   "source": [
    "df_selected_counties.describe(include='all')"
   ]
  },
  {
   "cell_type": "code",
   "execution_count": 53,
   "metadata": {},
   "outputs": [
    {
     "data": {
      "image/png": "[encoded data removed]",
      "text/plain": [
       "<Figure size 432x288 with 1 Axes>"
      ]
     },
     "metadata": {
      "needs_background": "light"
     },
     "output_type": "display_data"
    }
   ],
   "source": [
    "plot = sns.swarmplot(x=\"county\", y=\"newcountconfirmed\", data=df_selected_counties)\n",
    "plt.setp(plot.get_xticklabels(), rotation=70)\n",
    "# plt.title('County Swarmplot')   # Don't know why this didn't work\n",
    "plt.show()"
   ]
  },
  {
   "cell_type": "code",
   "execution_count": 54,
   "metadata": {},
   "outputs": [
    {
     "data": {
      "text/plain": [
       "count    960.000000\n",
       "mean      81.913542\n",
       "std       82.232775\n",
       "min       -8.000000\n",
       "25%       26.000000\n",
       "50%       54.000000\n",
       "75%      112.000000\n",
       "max      737.000000\n",
       "Name: newcountconfirmed, dtype: float64"
      ]
     },
     "execution_count": 54,
     "metadata": {},
     "output_type": "execute_result"
    }
   ],
   "source": [
    "# Santa Clara has the highest rolling-14 new cases\n",
    "# we see it is 737 below\n",
    "df_selected_counties['newcountconfirmed'].describe()"
   ]
  },
  {
   "cell_type": "code",
   "execution_count": 55,
   "metadata": {},
   "outputs": [
    {
     "data": {
      "text/plain": [
       "145"
      ]
     },
     "execution_count": 55,
     "metadata": {},
     "output_type": "execute_result"
    }
   ],
   "source": [
    "df_selected_counties['newcountconfirmed'].idxmax()"
   ]
  },
  {
   "cell_type": "code",
   "execution_count": 56,
   "metadata": {},
   "outputs": [
    {
     "data": {
      "text/plain": [
       "'Santa Clara'"
      ]
     },
     "execution_count": 56,
     "metadata": {},
     "output_type": "execute_result"
    }
   ],
   "source": [
    "# for position 145 what is the county\n",
    "df_selected_counties.at[145, 'county']"
   ]
  },
  {
   "cell_type": "code",
   "execution_count": 57,
   "metadata": {},
   "outputs": [
    {
     "data": {
      "text/plain": [
       "Timestamp('2020-08-10 00:00:00')"
      ]
     },
     "execution_count": 57,
     "metadata": {},
     "output_type": "execute_result"
    }
   ],
   "source": [
    "# for position 145 what is the date\n",
    "df_selected_counties.at[145, 'date']"
   ]
  },
  {
   "cell_type": "code",
   "execution_count": 58,
   "metadata": {},
   "outputs": [
    {
     "data": {
      "image/png": "[encoded data removed]",
      "text/plain": [
       "<Figure size 432x432 with 3 Axes>"
      ]
     },
     "metadata": {
      "needs_background": "light"
     },
     "output_type": "display_data"
    }
   ],
   "source": [
    "# Our 737 outlier is up and to the left\n",
    "# we don't have a linear correlation between the two variables\n",
    "#    deaths don't occur on the same day as confirmed\n",
    "plot = sns.jointplot(x='newcountdeaths',y='newcountconfirmed', data=df_selected_counties)\n",
    "# plot.show()    # Don't know why this doesn't work"
   ]
  },
  {
   "cell_type": "code",
   "execution_count": 59,
   "metadata": {},
   "outputs": [
    {
     "data": {
      "image/png": "[encoded data removed]",
      "text/plain": [
       "<Figure size 432x432 with 3 Axes>"
      ]
     },
     "metadata": {
      "needs_background": "light"
     },
     "output_type": "display_data"
    }
   ],
   "source": [
    "# closer to a linear correlation\n",
    "plot = sns.jointplot(x='newcountconfirmed', y='totalcountconfirmed', data=df_selected_counties)"
   ]
  },
  {
   "cell_type": "code",
   "execution_count": 60,
   "metadata": {},
   "outputs": [
    {
     "data": {
      "image/png": "[encoded data removed]",
      "text/plain": [
       "<Figure size 432x288 with 1 Axes>"
      ]
     },
     "metadata": {},
     "output_type": "display_data"
    }
   ],
   "source": [
    "# Try a boxplot to show outliers\n",
    "plot = sns.set_style(\"whitegrid\")\n",
    "ax = sns.boxplot(x=df_selected_counties['newcountconfirmed'])"
   ]
  },
  {
   "cell_type": "code",
   "execution_count": null,
   "metadata": {},
   "outputs": [],
   "source": []
  },
  {
   "cell_type": "code",
   "execution_count": null,
   "metadata": {},
   "outputs": [],
   "source": []
  },
  {
   "cell_type": "code",
   "execution_count": null,
   "metadata": {},
   "outputs": [],
   "source": []
  },
  {
   "cell_type": "code",
   "execution_count": null,
   "metadata": {},
   "outputs": [],
   "source": []
  },
  {
   "cell_type": "code",
   "execution_count": null,
   "metadata": {},
   "outputs": [],
   "source": []
  },
  {
   "cell_type": "code",
   "execution_count": null,
   "metadata": {},
   "outputs": [],
   "source": []
  },
  {
   "cell_type": "code",
   "execution_count": null,
   "metadata": {},
   "outputs": [],
   "source": []
  }
 ],
 "metadata": {
  "kernelspec": {
   "display_name": "Python 3",
   "language": "python",
   "name": "python3"
  },
  "language_info": {
   "codemirror_mode": {
    "name": "ipython",
    "version": 3
   },
   "file_extension": ".py",
   "mimetype": "text/x-python",
   "name": "python",
   "nbconvert_exporter": "python",
   "pygments_lexer": "ipython3",
   "version": "3.8.2"
  }
 },
 "nbformat": 4,
 "nbformat_minor": 4
}
